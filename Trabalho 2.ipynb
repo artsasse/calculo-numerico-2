{
 "cells": [
  {
   "cell_type": "markdown",
   "id": "545bb025-8435-472b-85f4-63b03067066c",
   "metadata": {},
   "source": [
    "# Cálculo Numérico - Trabalho 2 #\n",
    "## Arthur Mendonça Sasse - DRE 117206692 ##"
   ]
  },
  {
   "cell_type": "markdown",
   "id": "4374ddab-8f8f-4fe1-a0ad-3ab4e2c7421e",
   "metadata": {},
   "source": [
    "### Questão 2.1 ###\n",
    "\n",
    "<center>\n",
    "    <figure>\n",
    "        <img src=\"Q2.1.jpeg\" width=\"700\" align=\"center\">\n",
    "    </figure>\n",
    "</center>"
   ]
  },
  {
   "cell_type": "markdown",
   "id": "b07e4baa-8749-4801-b162-117a923c1bc9",
   "metadata": {},
   "source": [
    "### Questão 2.2 ###\n",
    "\n",
    "<center>\n",
    "    <figure>\n",
    "        <img src=\"Q2.2.jpeg\" width=\"700\" align=\"center\">\n",
    "    </figure>\n",
    "</center>"
   ]
  },
  {
   "cell_type": "markdown",
   "id": "07aa1d51-5b88-45d5-833a-89b9defad5ad",
   "metadata": {},
   "source": [
    "### Questão 2.3 ###\n",
    "\n",
    "<center>\n",
    "    <figure>\n",
    "        <img src=\"Q2.3.jpeg\" width=\"700\" align=\"center\">\n",
    "    </figure>\n",
    "</center>"
   ]
  },
  {
   "cell_type": "markdown",
   "id": "476c64b4-495e-4044-8bb4-527a4de969f8",
   "metadata": {},
   "source": [
    "### Questão 2.4 ###\n",
    "\n",
    "<center>\n",
    "    <figure>\n",
    "        <img src=\"Q2.4.jpeg\" width=\"700\" align=\"center\">\n",
    "    </figure>\n",
    "</center>"
   ]
  },
  {
   "cell_type": "markdown",
   "id": "520dd5d7-aa09-496b-9ff7-ac22923ef0c9",
   "metadata": {},
   "source": [
    "### Questão 3.1 ###\n",
    "\n",
    "<center>\n",
    "    <figure>\n",
    "        <img src=\"Q3.1-1.jpeg\" width=\"700\" align=\"center\">\n",
    "    </figure>\n",
    "</center>\n",
    "\n",
    "<center>\n",
    "    <figure>\n",
    "        <img src=\"Q3.1-2.jpeg\" width=\"700\" align=\"center\">\n",
    "    </figure>\n",
    "</center>"
   ]
  },
  {
   "cell_type": "markdown",
   "id": "71eb4cda-765a-4286-a252-85f2675eeb13",
   "metadata": {},
   "source": [
    "### Questão 3.2 ###\n",
    "\n",
    "<center>\n",
    "    <figure>\n",
    "        <img src=\"Q3.2-1.jpeg\" width=\"700\" align=\"center\">\n",
    "    </figure>\n",
    "</center>\n",
    "\n",
    "<center>\n",
    "    <figure>\n",
    "        <img src=\"Q3.2-2.jpeg\" width=\"700\" align=\"center\">\n",
    "    </figure>\n",
    "</center>"
   ]
  },
  {
   "cell_type": "code",
   "execution_count": 44,
   "id": "0038c2a2-7c5b-471a-864f-6b2607330041",
   "metadata": {},
   "outputs": [
    {
     "data": {
      "text/plain": [
       "0.4166666666666667"
      ]
     },
     "execution_count": 44,
     "metadata": {},
     "output_type": "execute_result"
    }
   ],
   "source": [
    "T3 = 0.375 + 0.125/3"
   ]
  },
  {
   "cell_type": "code",
   "execution_count": 48,
   "id": "f2ea2ae3-6ed3-454f-b5be-1aa9cb97bc90",
   "metadata": {},
   "outputs": [
    {
     "data": {
      "text/plain": [
       "0.0027472527472527475"
      ]
     },
     "execution_count": 48,
     "metadata": {},
     "output_type": "execute_result"
    }
   ],
   "source": [
    "max_error = 1/364"
   ]
  },
  {
   "cell_type": "code",
   "execution_count": 49,
   "id": "c178de7a-d46f-4a0a-8485-bcfd0ad01314",
   "metadata": {},
   "outputs": [
    {
     "data": {
      "text/plain": [
       "0.4194139194139194"
      ]
     },
     "execution_count": 49,
     "metadata": {},
     "output_type": "execute_result"
    }
   ],
   "source": [
    "T3 + max_error"
   ]
  },
  {
   "cell_type": "code",
   "execution_count": 50,
   "id": "7a5f9231-cb97-407d-9583-3cc8fabb751e",
   "metadata": {},
   "outputs": [
    {
     "data": {
      "text/plain": [
       "0.41391941391941395"
      ]
     },
     "execution_count": 50,
     "metadata": {},
     "output_type": "execute_result"
    }
   ],
   "source": [
    "T3 - max_error"
   ]
  },
  {
   "cell_type": "markdown",
   "id": "1cc2395d-391f-4ad4-b885-9d668b536eab",
   "metadata": {},
   "source": [
    "##### RESPOSTA: #####\n",
    "Com uma série de Taylor de ordem 3 como a dada no enunciado, conseguimos pelo menos 3 dígitos de precisão."
   ]
  },
  {
   "cell_type": "markdown",
   "id": "12a9a643-546f-4a40-9daf-47078a8985ff",
   "metadata": {},
   "source": [
    "E quantos termos precisamos para atingir um erro de truncamento de no máximo 10^(-8)?\n",
    "<center>\n",
    "    <figure>\n",
    "        <img src=\"Q3.2-3.jpeg\" width=\"700\" align=\"center\">\n",
    "    </figure>\n",
    "</center>"
   ]
  },
  {
   "cell_type": "code",
   "execution_count": 52,
   "id": "8e8a1d6a-d8a1-4452-a352-5793afbf389c",
   "metadata": {},
   "outputs": [
    {
     "data": {
      "text/plain": [
       "3.840000000000002e-6"
      ]
     },
     "execution_count": 52,
     "metadata": {},
     "output_type": "execute_result"
    }
   ],
   "source": [
    "# O valor máximo de M\n",
    "Mmax = 10^(-8) * 24 * 16"
   ]
  },
  {
   "cell_type": "code",
   "execution_count": 64,
   "id": "b73fea4b-f7ff-446c-8b48-ef178e981434",
   "metadata": {},
   "outputs": [
    {
     "data": {
      "text/plain": [
       "0.3333333333333333"
      ]
     },
     "execution_count": 64,
     "metadata": {},
     "output_type": "execute_result"
    }
   ],
   "source": [
    "N = 0\n",
    "derivada = 1 / 1.5\n",
    "(derivada * (0.5)^(N+1)) / factorial(N+1)"
   ]
  },
  {
   "cell_type": "code",
   "execution_count": 65,
   "id": "a0d22c87-78fb-4c4a-8ab9-661bc10c9394",
   "metadata": {},
   "outputs": [
    {
     "data": {
      "text/plain": [
       "-0.05555555555555555"
      ]
     },
     "execution_count": 65,
     "metadata": {},
     "output_type": "execute_result"
    }
   ],
   "source": [
    "N = 1\n",
    "derivada = -1/(1.5)^2\n",
    "(derivada * (0.5)^(N+1)) / factorial(N+1)"
   ]
  },
  {
   "cell_type": "code",
   "execution_count": 67,
   "id": "b1cc6e97-ae0e-419a-8eeb-f7cafab2cc4e",
   "metadata": {},
   "outputs": [
    {
     "data": {
      "text/plain": [
       "0.012345679012345678"
      ]
     },
     "execution_count": 67,
     "metadata": {},
     "output_type": "execute_result"
    }
   ],
   "source": [
    "N = 2\n",
    "derivada = 2/(1.5)^3\n",
    "(derivada * (0.5)^(N+1)) / factorial(N+1)"
   ]
  },
  {
   "cell_type": "code",
   "execution_count": 68,
   "id": "fca5b471-0f39-40ad-96c3-0858266f5c79",
   "metadata": {},
   "outputs": [
    {
     "data": {
      "text/plain": [
       "0.0030864197530864196"
      ]
     },
     "execution_count": 68,
     "metadata": {},
     "output_type": "execute_result"
    }
   ],
   "source": [
    "N = 3\n",
    "derivada = 6/(1.5)^4\n",
    "(derivada * (0.5)^(N+1)) / factorial(N+1)"
   ]
  },
  {
   "cell_type": "code",
   "execution_count": 69,
   "id": "374bdf3f-3d7c-4cc7-a295-f002957a4280",
   "metadata": {},
   "outputs": [
    {
     "data": {
      "text/plain": [
       "-0.0008230452674897119"
      ]
     },
     "execution_count": 69,
     "metadata": {},
     "output_type": "execute_result"
    }
   ],
   "source": [
    "N = 4\n",
    "derivada = -24/(1.5)^5\n",
    "(derivada * (0.5)^(N+1)) / factorial(N+1)"
   ]
  },
  {
   "cell_type": "code",
   "execution_count": 70,
   "id": "a1db1c30-c3b8-4108-960b-419428f1db26",
   "metadata": {},
   "outputs": [
    {
     "data": {
      "text/plain": [
       "0.00022862368541380886"
      ]
     },
     "execution_count": 70,
     "metadata": {},
     "output_type": "execute_result"
    }
   ],
   "source": [
    "N = 5\n",
    "derivada = 120/(1.5)^6\n",
    "(derivada * (0.5)^(N+1)) / factorial(N+1)"
   ]
  },
  {
   "cell_type": "code",
   "execution_count": 71,
   "id": "f326d008-f5bc-4bbb-bc90-145879cbed7d",
   "metadata": {},
   "outputs": [
    {
     "data": {
      "text/plain": [
       "-6.532105297537396e-5"
      ]
     },
     "execution_count": 71,
     "metadata": {},
     "output_type": "execute_result"
    }
   ],
   "source": [
    "N = 6\n",
    "derivada = -720/(1.5)^7\n",
    "(derivada * (0.5)^(N+1)) / factorial(N+1)"
   ]
  },
  {
   "cell_type": "code",
   "execution_count": 73,
   "id": "8004f033-5e63-4671-a4c7-c0f6166e0159",
   "metadata": {},
   "outputs": [
    {
     "data": {
      "text/plain": [
       "1.9051973784484073e-5"
      ]
     },
     "execution_count": 73,
     "metadata": {},
     "output_type": "execute_result"
    }
   ],
   "source": [
    "N = 7\n",
    "derivada = factorial(7)/(1.5)^8\n",
    "(derivada * (0.5)^(N+1)) / factorial(N+1)"
   ]
  },
  {
   "cell_type": "code",
   "execution_count": 75,
   "id": "ef49b1e2-eba4-4d80-9217-0155a4572ab2",
   "metadata": {},
   "outputs": [
    {
     "data": {
      "text/plain": [
       "-5.645029269476762e-6"
      ]
     },
     "execution_count": 75,
     "metadata": {},
     "output_type": "execute_result"
    }
   ],
   "source": [
    "N = 8\n",
    "derivada = -factorial(8)/(1.5)^9\n",
    "(derivada * (0.5)^(N+1)) / factorial(N+1)"
   ]
  },
  {
   "cell_type": "code",
   "execution_count": 82,
   "id": "cb384eef-9c41-4630-a7b9-48524c34a9ac",
   "metadata": {},
   "outputs": [
    {
     "data": {
      "text/plain": [
       "1.6935087808430286e-6"
      ]
     },
     "execution_count": 82,
     "metadata": {},
     "output_type": "execute_result"
    }
   ],
   "source": [
    "N = 9\n",
    "derivada = factorial(9)/(1.5)^10\n",
    "(derivada * (0.5)^(N+1)) / factorial(N+1)"
   ]
  },
  {
   "cell_type": "markdown",
   "id": "043b8cda-c12e-4efa-a472-393619f3a337",
   "metadata": {},
   "source": [
    "##### RESPOSTA: #####\n",
    "Para obter um erro de truncamento de no máximo 10^(-8) precisamos de uma série de Taylor de ordem 9, ou seja, com 10 termos."
   ]
  },
  {
   "cell_type": "markdown",
   "id": "1df34cc3-3076-4b10-9ec6-bb8042672d14",
   "metadata": {},
   "source": [
    "### Questão 3.3 ###"
   ]
  },
  {
   "cell_type": "markdown",
   "id": "c1e64757-3492-4424-a488-250c96727ed1",
   "metadata": {},
   "source": [
    "### Questão 3.4 ###\n",
    "\n",
    "<center>\n",
    "    <figure>\n",
    "        <img src=\"Q3.2-3.jpeg\" width=\"700\" align=\"center\">\n",
    "    </figure>\n",
    "</center>"
   ]
  },
  {
   "cell_type": "markdown",
   "id": "7dd6eb45-c10c-4b44-9fc4-83d1c5073ec5",
   "metadata": {},
   "source": [
    "### Questão 5.1 ###"
   ]
  },
  {
   "cell_type": "code",
   "execution_count": 42,
   "id": "248b18af-f477-445b-b54a-2f85afc0daa9",
   "metadata": {},
   "outputs": [
    {
     "data": {
      "text/plain": [
       "(3.1622776601683777, 9.99999999999999)"
      ]
     },
     "execution_count": 42,
     "metadata": {},
     "output_type": "execute_result"
    }
   ],
   "source": [
    "# Extremos do intervalo\n",
    "a = 0\n",
    "b = 20\n",
    "\n",
    "# A função\n",
    "f(x) = x^2\n",
    "\n",
    "# Valor da função no ponto que queremos descobrir\n",
    "d = 10\n",
    "\n",
    "# Número de iterações desejadas\n",
    "n = 53 # por que quando usamos um n > 53, o resultado fica menos preciso?\n",
    "\n",
    "# Por algum motivo tive que definir M antes do for\n",
    "M = 0\n",
    "for i = 1:n\n",
    "    # Ponto médio\n",
    "    M = (a + b)/2\n",
    "    \n",
    "    # Calcula o valor da função no ponto médio\n",
    "    fM = f(M)\n",
    "    \n",
    "    # Se d está na primeira metade do intervalo\n",
    "    if fM > d\n",
    "        # valor de a se mantém\n",
    "        # valor de b passa a ser o ponto médio\n",
    "        b = M\n",
    "    \n",
    "    # Se d está na segunda metade do intervalo\n",
    "    else\n",
    "        # valor de a passa ser o ponto médio\n",
    "        a = M\n",
    "        # valor de b se mantém\n",
    "    end\n",
    "end\n",
    "M,f(M)"
   ]
  },
  {
   "cell_type": "markdown",
   "id": "7e5fdd21-25e3-4273-a18e-d791eb680466",
   "metadata": {},
   "source": [
    "### Questão 5.2 ###\n",
    "\n",
    "<center>\n",
    "    <figure>\n",
    "        <img src=\"Q5.2.jpeg\" width=\"700\" align=\"center\">\n",
    "    </figure>\n",
    "</center>"
   ]
  },
  {
   "cell_type": "markdown",
   "id": "082ea594-d878-4990-8fb3-5b2bea1af531",
   "metadata": {},
   "source": [
    "### Desafio 5.1 ###\n",
    "\n",
    "<center>\n",
    "    <figure>\n",
    "        <img src=\"D5.1.jpeg\" width=\"700\" align=\"center\">\n",
    "    </figure>\n",
    "</center>"
   ]
  },
  {
   "cell_type": "code",
   "execution_count": null,
   "id": "832b7dff-cff3-45fb-be98-9dc31c6abfeb",
   "metadata": {},
   "outputs": [],
   "source": []
  }
 ],
 "metadata": {
  "kernelspec": {
   "display_name": "Julia 1.6.0",
   "language": "julia",
   "name": "julia-1.6"
  },
  "language_info": {
   "file_extension": ".jl",
   "mimetype": "application/julia",
   "name": "julia",
   "version": "1.6.0"
  }
 },
 "nbformat": 4,
 "nbformat_minor": 5
}
